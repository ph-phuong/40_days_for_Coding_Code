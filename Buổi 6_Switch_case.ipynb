{
 "cells": [
  {
   "cell_type": "markdown",
   "id": "5797f5c1",
   "metadata": {},
   "source": [
    "## Dictionary"
   ]
  },
  {
   "cell_type": "code",
   "execution_count": 3,
   "id": "34a13567",
   "metadata": {},
   "outputs": [
    {
     "name": "stdout",
     "output_type": "stream",
     "text": [
      "Time: 8\n"
     ]
    },
    {
     "data": {
      "text/plain": [
       "'Do something else'"
      ]
     },
     "execution_count": 3,
     "metadata": {},
     "output_type": "execute_result"
    }
   ],
   "source": [
    "to_do = {'5am' : 'Wake up',\n",
    "         '6am' : 'Yoga',\n",
    "         '7am' : 'Work'}\n",
    "\n",
    "time1 = input('Time: ')\n",
    "to_do.get(time1, 'Do something else')"
   ]
  },
  {
   "cell_type": "markdown",
   "id": "dc22eec7",
   "metadata": {},
   "source": [
    "## Match case"
   ]
  },
  {
   "cell_type": "code",
   "execution_count": 6,
   "id": "d43e4403",
   "metadata": {},
   "outputs": [
    {
     "name": "stdout",
     "output_type": "stream",
     "text": [
      "Time: 8\n",
      "Do something else\n"
     ]
    }
   ],
   "source": [
    "time2 = input('Time: ')\n",
    "match time2:\n",
    "    case '5am':\n",
    "        print('Wake up')\n",
    "    case '6am':\n",
    "        print('Yoga')\n",
    "    case '7am':\n",
    "        print('Work')\n",
    "    case _:\n",
    "        print('Do something else')"
   ]
  },
  {
   "cell_type": "code",
   "execution_count": null,
   "id": "68f015ee",
   "metadata": {},
   "outputs": [],
   "source": []
  }
 ],
 "metadata": {
  "kernelspec": {
   "display_name": "Python 3 (ipykernel)",
   "language": "python",
   "name": "python3"
  },
  "language_info": {
   "codemirror_mode": {
    "name": "ipython",
    "version": 3
   },
   "file_extension": ".py",
   "mimetype": "text/x-python",
   "name": "python",
   "nbconvert_exporter": "python",
   "pygments_lexer": "ipython3",
   "version": "3.11.4"
  }
 },
 "nbformat": 4,
 "nbformat_minor": 5
}
