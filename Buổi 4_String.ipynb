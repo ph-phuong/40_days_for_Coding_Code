{
 "cells": [
  {
   "cell_type": "code",
   "execution_count": 1,
   "id": "cd3ddfa8",
   "metadata": {},
   "outputs": [
    {
     "name": "stdout",
     "output_type": "stream",
     "text": [
      "Alice is a great teacher\n"
     ]
    }
   ],
   "source": [
    "name1 = 'Alice'\n",
    "print(f'{name1} is a great teacher')"
   ]
  },
  {
   "cell_type": "code",
   "execution_count": 2,
   "id": "c4b92d31",
   "metadata": {},
   "outputs": [
    {
     "name": "stdout",
     "output_type": "stream",
     "text": [
      "Nhập tên: ms Taylor\n",
      "Title case : Ms Taylor\n",
      "UPPER case : MS TAYLOR\n",
      "lower case : ms taylor\n"
     ]
    }
   ],
   "source": [
    "name2 = str(input('Nhập tên: '))\n",
    "print(f'Title case : {name2.title()}')\n",
    "print(f'UPPER case : {name2.upper()}')\n",
    "print(f'lower case : {name2.lower()}')"
   ]
  },
  {
   "cell_type": "code",
   "execution_count": null,
   "id": "22b4e8df",
   "metadata": {},
   "outputs": [],
   "source": []
  }
 ],
 "metadata": {
  "kernelspec": {
   "display_name": "Python 3 (ipykernel)",
   "language": "python",
   "name": "python3"
  },
  "language_info": {
   "codemirror_mode": {
    "name": "ipython",
    "version": 3
   },
   "file_extension": ".py",
   "mimetype": "text/x-python",
   "name": "python",
   "nbconvert_exporter": "python",
   "pygments_lexer": "ipython3",
   "version": "3.11.4"
  }
 },
 "nbformat": 4,
 "nbformat_minor": 5
}
