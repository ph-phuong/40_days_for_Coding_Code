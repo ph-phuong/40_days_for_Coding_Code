{
 "cells": [
  {
   "cell_type": "code",
   "execution_count": 2,
   "id": "5db78783",
   "metadata": {},
   "outputs": [
    {
     "name": "stdout",
     "output_type": "stream",
     "text": [
      "Mảng 1 chiều NumPy : [1 2 3 4 5] <class 'numpy.ndarray'>\n",
      "Tensor PyTorch 1 chiều: tensor([1, 2, 3, 4, 5])\n",
      "Tensor TensorFlow 1 chiều: tf.Tensor([1 2 3 4 5], shape=(5,), dtype=int32)\n"
     ]
    }
   ],
   "source": [
    "import numpy as np\n",
    "import torch\n",
    "import tensorflow as tf"
   ]
  },
  {
   "cell_type": "markdown",
   "id": "d65c3e98",
   "metadata": {},
   "source": [
    "## Day 14 - Transpose"
   ]
  },
  {
   "cell_type": "markdown",
   "id": "a30fdd30",
   "metadata": {},
   "source": [
    "### Câu 1"
   ]
  },
  {
   "cell_type": "code",
   "execution_count": 24,
   "id": "0d41ccf2",
   "metadata": {},
   "outputs": [
    {
     "name": "stdout",
     "output_type": "stream",
     "text": [
      "Mảng 1: \n",
      " [[ -2 -10 -10  -6]\n",
      " [ -1  -9  -7   0]\n",
      " [ -8 -10  -5   7]]\n",
      "Mảng 2: \n",
      " [[ 5  0  4  5]\n",
      " [ 1 -3  8 -1]\n",
      " [-4  0 -9 -5]]\n",
      "Mảng chuyển vị mảng 2: \n",
      " [[ 5  1 -4]\n",
      " [ 0 -3  0]\n",
      " [ 4  8 -9]\n",
      " [ 5 -1 -5]]\n",
      "Nhân matrix multiplication: \n",
      " [[-80 -46 128]\n",
      " [-33 -30  67]\n",
      " [-25 -25  42]]\n"
     ]
    }
   ],
   "source": [
    "#Numpy\n",
    "np.random.seed(2024)\n",
    "arr_np1 = np.random.randint(-10,10, size =(3,4))\n",
    "arr_np2 = np.random.randint(-10,10, size =(3,4))\n",
    "arr_np2_transposed = arr_np2.T\n",
    "np_matmul = np.matmul(arr_np1, arr_np2_transposed)\n",
    "\n",
    "print('Mảng 1: \\n', arr_np1)\n",
    "print('Mảng 2: \\n', arr_np2)\n",
    "print('Mảng chuyển vị mảng 2: \\n', arr_np2_transposed)\n",
    "print('Nhân matrix multiplication: \\n', np_matmul)"
   ]
  },
  {
   "cell_type": "code",
   "execution_count": 25,
   "id": "7eacaca7",
   "metadata": {},
   "outputs": [
    {
     "name": "stdout",
     "output_type": "stream",
     "text": [
      "Mảng 1: \n",
      " tf.Tensor(\n",
      "[[-6 -2  0 -2]\n",
      " [ 4  4 -9  3]\n",
      " [ 7  1  2 -5]], shape=(3, 4), dtype=int32)\n",
      "Mảng 2: \n",
      " tf.Tensor(\n",
      "[[-3 -7  9  3]\n",
      " [ 2 -5 -3 -5]\n",
      " [ 4 -3 -3  5]], shape=(3, 4), dtype=int32)\n",
      "Mảng chuyển vị mảng 2: \n",
      " tf.Tensor(\n",
      "[[-3  2  4]\n",
      " [-7 -5 -3]\n",
      " [ 9 -3 -3]\n",
      " [ 3 -5  5]], shape=(4, 3), dtype=int32)\n",
      "Nhân matrix multiplication: \n",
      " tf.Tensor(\n",
      "[[  26    8  -28]\n",
      " [-112    0   46]\n",
      " [ -25   28   -6]], shape=(3, 3), dtype=int32)\n"
     ]
    }
   ],
   "source": [
    "#Tensorflow\n",
    "\n",
    "tf.random.set_seed(2024)\n",
    "\n",
    "arr_tf1 = tf.random.uniform(shape=(3, 4), minval=-10, maxval=10, dtype=tf.int32)\n",
    "arr_tf2 = tf.random.uniform(shape=(3, 4), minval=-10, maxval=10, dtype=tf.int32)\n",
    "arr_tf2_transposed = tf.transpose(arr_tf2)\n",
    "tf_matmul = tf.matmul(arr_tf1, arr_tf2_transposed)\n",
    "\n",
    "print('Mảng 1: \\n', arr_tf1)\n",
    "print('Mảng 2: \\n', arr_tf2)\n",
    "print('Mảng chuyển vị mảng 2: \\n', arr_tf2_transposed)\n",
    "print('Nhân matrix multiplication: \\n', tf_matmul)\n"
   ]
  },
  {
   "cell_type": "code",
   "execution_count": 29,
   "id": "ad7a6a88",
   "metadata": {},
   "outputs": [
    {
     "name": "stdout",
     "output_type": "stream",
     "text": [
      "Mảng 1: \n",
      " tensor([[  2,   0,  -6, -10],\n",
      "        [ -7, -10,   0,   1],\n",
      "        [  3,   9,   7,  -6]])\n",
      "Mảng 2: \n",
      " tensor([[  1,   8,   0,  -2],\n",
      "        [ -9, -10,  -9,   0],\n",
      "        [ -3,  -7,  -4,   8]])\n",
      "Mảng chuyển vị mảng 2: \n",
      " tensor([[  1,  -9,  -3],\n",
      "        [  8, -10,  -7],\n",
      "        [  0,  -9,  -4],\n",
      "        [ -2,   0,   8]])\n",
      "Nhân matrix multiplication: \n",
      " tensor([[  22,   36,  -62],\n",
      "        [ -89,  163,   99],\n",
      "        [  87, -180, -148]])\n"
     ]
    }
   ],
   "source": [
    "#Pytorch\n",
    "torch.manual_seed(2024)\n",
    "\n",
    "arr_tensor1 = torch.randint(-10,10, size =(3,4))\n",
    "arr_tensor2 = torch.randint(-10,10, size =(3,4))\n",
    "arr_tensor2_transposed = arr_tensor2.T\n",
    "tensor_matmul = torch.matmul(arr_tensor1, arr_tensor2_transposed)\n",
    "\n",
    "print('Mảng 1: \\n', arr_tensor1)\n",
    "print('Mảng 2: \\n', arr_tensor2)\n",
    "print('Mảng chuyển vị mảng 2: \\n', arr_tensor2_transposed)\n",
    "print('Nhân matrix multiplication: \\n', tensor_matmul)"
   ]
  },
  {
   "cell_type": "markdown",
   "id": "2a054e78",
   "metadata": {},
   "source": [
    "### Câu 2"
   ]
  },
  {
   "cell_type": "code",
   "execution_count": 32,
   "id": "11475e23",
   "metadata": {},
   "outputs": [
    {
     "name": "stdout",
     "output_type": "stream",
     "text": [
      "Mảng:  [[ -2 -10 -10]\n",
      " [ -6  -1  -9]\n",
      " [ -7   0  -8]]\n",
      "Tổng:  -53\n",
      "Tổng cột:  [-15 -11 -27]\n",
      "Tổng dòng:  [-22 -16 -15]\n"
     ]
    }
   ],
   "source": [
    "# Numpy\n",
    "np.random.seed(2024)\n",
    "arr_np3 = np.random.randint(-10,10, size =(3,3))\n",
    "total_np = np .sum(arr_np3)\n",
    "total_np_col = np.sum(arr_np3, axis =0)\n",
    "total_np_row = np.sum(arr_np3, axis =1)\n",
    "\n",
    "print('Mảng: ', arr_np3)\n",
    "print('Tổng: ', total_np)\n",
    "print('Tổng cột: ', total_np_col)\n",
    "print('Tổng dòng: ', total_np_row)"
   ]
  },
  {
   "cell_type": "code",
   "execution_count": 37,
   "id": "e56a558a",
   "metadata": {},
   "outputs": [
    {
     "name": "stdout",
     "output_type": "stream",
     "text": [
      "Mảng:  tf.Tensor(\n",
      "[[-6 -2  0]\n",
      " [-2  4  4]\n",
      " [-9  3  7]], shape=(3, 3), dtype=int32)\n",
      "Tổng:  tf.Tensor(-1, shape=(), dtype=int32)\n",
      "Tổng cột:  tf.Tensor([-17   5  11], shape=(3,), dtype=int32)\n",
      "Tổng dòng:  tf.Tensor([-8  6  1], shape=(3,), dtype=int32)\n"
     ]
    }
   ],
   "source": [
    "#Tensorflow\n",
    "\n",
    "tf.random.set_seed(2024)\n",
    "\n",
    "arr_tf3 = tf.random.uniform(shape=(3, 3), minval=-10, maxval=10, dtype=tf.int32)\n",
    "\n",
    "total_tf = tf.reduce_sum(arr_tf3)\n",
    "total_tf_col = tf.reduce_sum(arr_tf3, axis =0)\n",
    "total_tf_row = tf.reduce_sum(arr_tf3, axis =1)\n",
    "\n",
    "print('Mảng: ', arr_tf3)\n",
    "print('Tổng: ', total_tf)\n",
    "print('Tổng cột: ', total_tf_col)\n",
    "print('Tổng dòng: ', total_tf_row)"
   ]
  },
  {
   "cell_type": "code",
   "execution_count": 35,
   "id": "464f950b",
   "metadata": {},
   "outputs": [
    {
     "name": "stdout",
     "output_type": "stream",
     "text": [
      "Mảng:  tensor([[  2,   0,  -6],\n",
      "        [-10,  -7, -10],\n",
      "        [  0,   1,   3]])\n",
      "Tổng:  tensor(-27)\n",
      "Tổng cột:  tensor([ -8,  -6, -13])\n",
      "Tổng dòng:  tensor([ -4, -27,   4])\n"
     ]
    }
   ],
   "source": [
    "#Pytorch\n",
    "torch.manual_seed(2024)\n",
    "\n",
    "arr_tensor3 = torch.randint(-10,10, size =(3,3))\n",
    "\n",
    "total_tensor = torch.sum(arr_tensor3)\n",
    "total_tensor_col = torch.sum(arr_tensor3, axis =0)\n",
    "total_tensor_row = torch.sum(arr_tensor3, axis =1)\n",
    "\n",
    "print('Mảng: ', arr_tensor3)\n",
    "print('Tổng: ', total_tensor)\n",
    "print('Tổng cột: ', total_tensor_col)\n",
    "print('Tổng dòng: ', total_tensor_row)"
   ]
  },
  {
   "cell_type": "code",
   "execution_count": null,
   "id": "1b899371",
   "metadata": {},
   "outputs": [],
   "source": []
  }
 ],
 "metadata": {
  "kernelspec": {
   "display_name": "Python 3 (ipykernel)",
   "language": "python",
   "name": "python3"
  },
  "language_info": {
   "codemirror_mode": {
    "name": "ipython",
    "version": 3
   },
   "file_extension": ".py",
   "mimetype": "text/x-python",
   "name": "python",
   "nbconvert_exporter": "python",
   "pygments_lexer": "ipython3",
   "version": "3.11.4"
  }
 },
 "nbformat": 4,
 "nbformat_minor": 5
}
