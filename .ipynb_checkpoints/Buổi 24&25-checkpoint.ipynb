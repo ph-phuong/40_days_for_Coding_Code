{
 "cells": [
  {
   "cell_type": "code",
   "execution_count": 1,
   "id": "a44fc26a",
   "metadata": {},
   "outputs": [
    {
     "name": "stdout",
     "output_type": "stream",
     "text": [
      "4500\n"
     ]
    }
   ],
   "source": [
    "# Question 1\n",
    "n = 0\n",
    "for i in range(0, 1000, 100):\n",
    "    n += i\n",
    "print(n)"
   ]
  },
  {
   "cell_type": "code",
   "execution_count": 2,
   "id": "2ce5756f",
   "metadata": {},
   "outputs": [
    {
     "name": "stdout",
     "output_type": "stream",
     "text": [
      "['pos', 'neg', 'neg', 'pos']\n"
     ]
    }
   ],
   "source": [
    "# Question 2\n",
    "def a_function_helper (x):\n",
    "    if x > 0:\n",
    "        return 'pos'\n",
    "    else:\n",
    "        return 'neg'\n",
    "\n",
    "def a_function(data):\n",
    "    res = [a_function_helper(x) for x in data]\n",
    "    return res\n",
    "\n",
    "data = [1, 0, -1, 2]\n",
    "print(a_function(data))"
   ]
  },
  {
   "cell_type": "code",
   "execution_count": 3,
   "id": "b367d2e0",
   "metadata": {},
   "outputs": [
    {
     "name": "stdout",
     "output_type": "stream",
     "text": [
      "Python\n"
     ]
    }
   ],
   "source": [
    "# Question 3\n",
    "data = \"Python Programming\"\n",
    "print(data.split()[0])"
   ]
  },
  {
   "cell_type": "code",
   "execution_count": 4,
   "id": "7f350111",
   "metadata": {},
   "outputs": [
    {
     "data": {
      "text/plain": [
       "True"
      ]
     },
     "execution_count": 4,
     "metadata": {},
     "output_type": "execute_result"
    }
   ],
   "source": [
    "# Question 4\n",
    "\"elephant\"*1 > \"ant\"*100 "
   ]
  },
  {
   "cell_type": "markdown",
   "id": "6f1ab4f8",
   "metadata": {},
   "source": [
    "Trong Python, khi bạn so sánh hai chuỗi, Python sẽ thực hiện so sánh ký tự trong chuỗi theo thứ tự từ trái sang phải. \n",
    "Đầu tiên, Python sẽ so sánh ký tự ở vị trí đầu tiên của mỗi chuỗi. Nếu chúng khác nhau, ký tự có giá trị ASCII nhỏ hơn sẽ được coi là \"nhỏ hơn\" và ký tự có giá trị ASCII lớn hơn sẽ được coi là \"lớn hơn\". Nếu ký tự ở cùng một vị trí trong mỗi chuỗi giống nhau, Python sẽ tiếp tục so sánh với ký tự ở vị trí tiếp theo, và cứ tiếp tục như vậy cho đến khi tìm thấy ký tự khác nhau hoặc đến khi một trong hai chuỗi kết thúc.\n",
    "\n",
    "Nếu một chuỗi kết thúc nhưng chuỗi kia vẫn còn ký tự, chuỗi có độ dài còn lại sẽ được coi là \"lớn hơn\". Nếu cả hai chuỗi đều kết thúc cùng một lúc và không có ký tự nào khác nhau, thì chúng được coi là bằng nhau.\n",
    "\n",
    "Độ dài của một chuỗi cũng được sử dụng trong quá trình so sánh. Nếu tất cả các ký tự trong các vị trí tương ứng giống nhau, nhưng một chuỗi có độ dài lớn hơn, thì chuỗi dài hơn sẽ được coi là \"lớn hơn\".\n",
    "\n",
    "Với đoạn code trên thì Python sẽ thực hiện so sánh ký tự từ trái sang phải và chỉ sử dụng độ dài của chuỗi khi cần thiết.\n",
    "\n",
    "Python bắt đầu so sánh ký tự đầu tiên của mỗi chuỗi. Vì \"e\" có giá trị ASCII lớn hơn \"a\", nên \"elephant\" sẽ được coi là lớn hơn \"ant\".\n",
    "Do \"elephant\" đã được xác định là > \"ant\", nên chúng ta không cần phải tiếp tục so sánh các ký tự còn lại hoặc độ dài của chuỗi nữa. Kết quả sẽ là \"Chuỗi 'elephant' lớn hơn chuỗi 'ant' lặp lại 100 lần.\""
   ]
  },
  {
   "cell_type": "code",
   "execution_count": 8,
   "id": "a7c60e4d",
   "metadata": {},
   "outputs": [
    {
     "name": "stdout",
     "output_type": "stream",
     "text": [
      "[0, 0, 1, 1, 1, 1]\n"
     ]
    }
   ],
   "source": [
    "# Question 5\n",
    "def my_function5(signal):\n",
    "    var = True\n",
    "    while var:\n",
    "        var = False\n",
    "        for i in range(len(signal) -1):\n",
    "            if signal[i] > signal[i+1]:\n",
    "                signal[i], signal[i+1] = signal[i+1], signal[i]\n",
    "                var = True\n",
    "\n",
    "my_signal = [1, 0, 0, 1, 1, 1]\n",
    "my_function5(my_signal)\n",
    "print(my_signal)"
   ]
  },
  {
   "cell_type": "code",
   "execution_count": 9,
   "id": "f2397aee",
   "metadata": {},
   "outputs": [
    {
     "name": "stdout",
     "output_type": "stream",
     "text": [
      "6\n"
     ]
    }
   ],
   "source": [
    "# Question 6\n",
    "n = 0\n",
    "for i in range(10):\n",
    "    n += i\n",
    "    if n > 0 and n%2 == 0:\n",
    "        break\n",
    "        \n",
    "print(n)"
   ]
  },
  {
   "cell_type": "code",
   "execution_count": 16,
   "id": "f7d62883",
   "metadata": {},
   "outputs": [
    {
     "data": {
      "text/plain": [
       "2.5"
      ]
     },
     "execution_count": 16,
     "metadata": {},
     "output_type": "execute_result"
    }
   ],
   "source": [
    "# Question 7\n",
    "def my_function7(list_nums = [1, 2, 3, 4]):\n",
    "    var = 0\n",
    "    for i in list_nums:\n",
    "        var += i\n",
    "    return var/len(list_nums)\n",
    "\n",
    "my_function7()"
   ]
  },
  {
   "cell_type": "code",
   "execution_count": 17,
   "id": "83ed52b9",
   "metadata": {},
   "outputs": [
    {
     "name": "stdout",
     "output_type": "stream",
     "text": [
      "spring\n"
     ]
    }
   ],
   "source": [
    "# Question 8\n",
    "space1 = \"It's sunny here!\"\n",
    "space2 = \"Is it hot here in the spring?\"\n",
    "space = space1 + space2\n",
    "print(space[-7:-1])"
   ]
  },
  {
   "cell_type": "markdown",
   "id": "233990e4",
   "metadata": {},
   "source": [
    "print(space[-7:-1]): In ra một phần của chuỗi space, bắt đầu từ ký tự thứ hai từ cuối vì -1-1 = -2 (ký tự thứ hai từ cuối là ký tự 'n' của 'spring') và kết thúc trước ký tự cuối cùng (ký tự cuối cùng là dấu chấm hỏi)."
   ]
  },
  {
   "cell_type": "code",
   "execution_count": 20,
   "id": "3b0b9681",
   "metadata": {},
   "outputs": [
    {
     "ename": "TypeError",
     "evalue": "'<' not supported between instances of 'str' and 'int'",
     "output_type": "error",
     "traceback": [
      "\u001b[1;31m---------------------------------------------------------------------------\u001b[0m",
      "\u001b[1;31mTypeError\u001b[0m                                 Traceback (most recent call last)",
      "Cell \u001b[1;32mIn[20], line 3\u001b[0m\n\u001b[0;32m      1\u001b[0m \u001b[38;5;66;03m# Question 9\u001b[39;00m\n\u001b[0;32m      2\u001b[0m data9 \u001b[38;5;241m=\u001b[39m [\u001b[38;5;241m1\u001b[39m, \u001b[38;5;241m2\u001b[39m, \u001b[38;5;241m3\u001b[39m, \u001b[38;5;124m\"\u001b[39m\u001b[38;5;124mI\u001b[39m\u001b[38;5;124m\"\u001b[39m, \u001b[38;5;124m\"\u001b[39m\u001b[38;5;124mam\u001b[39m\u001b[38;5;124m\"\u001b[39m, \u001b[38;5;124m\"\u001b[39m\u001b[38;5;124mAI\u001b[39m\u001b[38;5;124m\"\u001b[39m]\n\u001b[1;32m----> 3\u001b[0m new_data9 \u001b[38;5;241m=\u001b[39m \u001b[38;5;28;43msorted\u001b[39;49m\u001b[43m(\u001b[49m\u001b[43mdata9\u001b[49m\u001b[43m)\u001b[49m\n\u001b[0;32m      4\u001b[0m \u001b[38;5;28mprint\u001b[39m(new_data9)\n",
      "\u001b[1;31mTypeError\u001b[0m: '<' not supported between instances of 'str' and 'int'"
     ]
    }
   ],
   "source": [
    "# Question 9\n",
    "data9 = [1, 2, 3, \"I\", \"am\", \"AI\"]\n",
    "new_data9 = sorted(data9)\n",
    "print(new_data9)"
   ]
  },
  {
   "cell_type": "code",
   "execution_count": 21,
   "id": "5a7ad10b",
   "metadata": {},
   "outputs": [
    {
     "name": "stdout",
     "output_type": "stream",
     "text": [
      "['D', 'u', 'o', ',', ' ', 'c', 'm', 'e', 'h', 'r', '!']\n"
     ]
    }
   ],
   "source": [
    "# Question 10\n",
    "my_string10 = \"Duo, come here!\"\n",
    "my_bag_of_word = []\n",
    "for element in my_string10:\n",
    "    if element not in my_bag_of_word:\n",
    "        my_bag_of_word.append(element)\n",
    "        \n",
    "print(my_bag_of_word)"
   ]
  },
  {
   "cell_type": "code",
   "execution_count": 22,
   "id": "12e63192",
   "metadata": {},
   "outputs": [
    {
     "name": "stdout",
     "output_type": "stream",
     "text": [
      "3\n"
     ]
    }
   ],
   "source": [
    "# Question 11\n",
    "my_string11 = \"It's raining cats and dogs\"\n",
    "results11 = my_string11.count('s')\n",
    "print(results11)"
   ]
  },
  {
   "cell_type": "code",
   "execution_count": 24,
   "id": "51a8d9bb",
   "metadata": {},
   "outputs": [
    {
     "name": "stdout",
     "output_type": "stream",
     "text": [
      "1  0  0  0  1  0  0  0  1  "
     ]
    }
   ],
   "source": [
    "# Question 12\n",
    "def my_function12(x):\n",
    "    for i in range(x):\n",
    "        for j in range(x):\n",
    "            if i == j:\n",
    "                print(\"1 \", end = \" \")\n",
    "            else:\n",
    "                print(\"0 \", end = \" \")\n",
    "                \n",
    "my_function12(3)"
   ]
  },
  {
   "cell_type": "code",
   "execution_count": 25,
   "id": "23f68386",
   "metadata": {},
   "outputs": [
    {
     "name": "stdout",
     "output_type": "stream",
     "text": [
      "6\n"
     ]
    }
   ],
   "source": [
    "# Question 13\n",
    "def my_function13(y):\n",
    "    var = 1\n",
    "    while (y>1):\n",
    "        var = var * y\n",
    "        y = y - 1\n",
    "    return var\n",
    "print(my_function13(3))"
   ]
  },
  {
   "cell_type": "code",
   "execution_count": 26,
   "id": "ebd2f6f4",
   "metadata": {},
   "outputs": [
    {
     "name": "stdout",
     "output_type": "stream",
     "text": [
      "[3, 6, 9]\n"
     ]
    }
   ],
   "source": [
    "# Question 14\n",
    "even_numbers = [x for x in range(3, 12) if x%3==0]\n",
    "print(even_numbers)"
   ]
  },
  {
   "cell_type": "code",
   "execution_count": 29,
   "id": "59d4ec86",
   "metadata": {},
   "outputs": [
    {
     "name": "stdout",
     "output_type": "stream",
     "text": [
      "[1, 3, 5]\n",
      "[1, 51, 81]\n",
      "[2, 99, 23]\n"
     ]
    }
   ],
   "source": [
    "# Question 15\n",
    "X = [[1, 1, 2],\n",
    "    [3, 51, 99],\n",
    "    [5, 81, 23]]\n",
    "\n",
    "result15 = [[0, 0, 0],\n",
    "           [0, 0, 0],\n",
    "           [0, 0, 0]]\n",
    "\n",
    "for i in range(len(X)):           # i chạy ở các hàng của X\n",
    "    for j in range(len(X[0])):    # j chạy ở các cột của X\n",
    "        result15[j][i] = X[i][j]\n",
    "        \n",
    "for r in result15:\n",
    "    print(r)"
   ]
  },
  {
   "cell_type": "code",
   "execution_count": 30,
   "id": "809a2dd0",
   "metadata": {},
   "outputs": [
    {
     "name": "stdout",
     "output_type": "stream",
     "text": [
      "14\n"
     ]
    }
   ],
   "source": [
    "# Question 16\n",
    "def my_function16(my_data):\n",
    "    rs = 0\n",
    "    for i in my_data:\n",
    "        rs += i\n",
    "    return rs\n",
    "\n",
    "my_list = [2, 3, 4, 5]\n",
    "print(my_function16(my_data = my_list))"
   ]
  },
  {
   "cell_type": "code",
   "execution_count": 34,
   "id": "67735cfc",
   "metadata": {},
   "outputs": [
    {
     "name": "stdout",
     "output_type": "stream",
     "text": [
      "[{'friends': ['Tom', 'Mike', 'Taylor']}, 2002, 2099, 3000, 'moon']\n"
     ]
    }
   ],
   "source": [
    "# Question 17\n",
    "def my_function17(my_data):\n",
    "    result = []\n",
    "    for element in my_data:\n",
    "        if element not in result:\n",
    "            result.append(element)\n",
    "    return result\n",
    "\n",
    "data17 = [{'friends' : ['Tom', 'Mike', 'Taylor']}, 2002, 2099, 3000, 'moon']\n",
    "print(my_function17(data17)) "
   ]
  },
  {
   "cell_type": "code",
   "execution_count": 38,
   "id": "aff0cb59",
   "metadata": {},
   "outputs": [
    {
     "name": "stdout",
     "output_type": "stream",
     "text": [
      "[2, 2, 3, 4, 5, 5, 5]\n"
     ]
    }
   ],
   "source": [
    "# Question 18\n",
    "def my_function18(data, max, min):\n",
    "    result =[]\n",
    "    for i in data:\n",
    "        if i < min:\n",
    "            result.append(min)\n",
    "        elif i > max:\n",
    "            result.append(max)\n",
    "        else:\n",
    "            result.append(i)\n",
    "    return result\n",
    "\n",
    "my_list18 = [1, 2, 3, 4 ,5 ,6 ,7]\n",
    "max = 5\n",
    "min = 2\n",
    "print(my_function18(max = max, min = min, data = my_list18))"
   ]
  },
  {
   "cell_type": "code",
   "execution_count": null,
   "id": "b1766739",
   "metadata": {},
   "outputs": [],
   "source": [
    "# Question 19\n",
    "def my_function19(x, y):\n",
    "    x. extend(y)\n",
    "    return y\n",
    "list_num1 = [-1, -4, -9]\n",
    "list_num2 = [2, 3, 5]\n",
    "list_num3 = [0, 0, 0]\n",
    "my_function19(list_num1, my_function19(list_num2, list_num3))"
   ]
  },
  {
   "cell_type": "code",
   "execution_count": 3,
   "id": "cb89c886",
   "metadata": {},
   "outputs": [
    {
     "name": "stdout",
     "output_type": "stream",
     "text": [
      "False\n"
     ]
    }
   ],
   "source": [
    "# Question 20\n",
    "\n",
    "def check_the_number(N):\n",
    "    list_of_numbers =[]\n",
    "    result = \"\"\n",
    "    for i in range(1, 10, 3):\n",
    "        list_of_numbers.append(i)\n",
    "    if N in list_of_numbers:\n",
    "        result = \"True\"\n",
    "    if N not in list_of_numbers:\n",
    "        result = \"False\"\n",
    "    return result\n",
    "\n",
    "N = 0\n",
    "N += 5\n",
    "results = check_the_number(N)\n",
    "print(results)\n",
    "        "
   ]
  },
  {
   "cell_type": "code",
   "execution_count": 4,
   "id": "37e2473e",
   "metadata": {},
   "outputs": [
    {
     "name": "stdout",
     "output_type": "stream",
     "text": [
      "<class 'str'>\n"
     ]
    }
   ],
   "source": [
    "# Question 21\n",
    "data21 = \"['dog', 'cat', [1, 2]]\"\n",
    "print(type(data21))"
   ]
  },
  {
   "cell_type": "code",
   "execution_count": 5,
   "id": "91ad60eb",
   "metadata": {},
   "outputs": [
    {
     "data": {
      "text/plain": [
       "-20"
      ]
     },
     "execution_count": 5,
     "metadata": {},
     "output_type": "execute_result"
    }
   ],
   "source": [
    "# Question 22\n",
    "def my_function22(n):\n",
    "    x = n[0]\n",
    "    for i in n:\n",
    "        if i < x:\n",
    "            x = i\n",
    "    return x\n",
    "\n",
    "my_list21 = [-7, 99, 100, 2, 0, -20]\n",
    "my_function22(my_list21)"
   ]
  },
  {
   "cell_type": "code",
   "execution_count": 7,
   "id": "858d7810",
   "metadata": {},
   "outputs": [
    {
     "name": "stdout",
     "output_type": "stream",
     "text": [
      "This test is very easy I Love It!\n"
     ]
    }
   ],
   "source": [
    "# Question 23\n",
    "Ann = '@ThiS tEst is Very eaSy @@'\n",
    "David = \"i love iT!\"\n",
    "\n",
    "txt = Ann.strip('@').capitalize() + David.title()\n",
    "print(txt)"
   ]
  },
  {
   "cell_type": "code",
   "execution_count": 8,
   "id": "d67f6455",
   "metadata": {},
   "outputs": [
    {
     "data": {
      "text/plain": [
       "0"
      ]
     },
     "execution_count": 8,
     "metadata": {},
     "output_type": "execute_result"
    }
   ],
   "source": [
    "# Question 24\n",
    "def my_function24(n):\n",
    "    x = n[0]\n",
    "    for i in n:\n",
    "        if i > x:\n",
    "            x = i\n",
    "    return x\n",
    "my_list24 = [-200, -99, -100, -2004, 0, -20]\n",
    "my_function24(my_list24)"
   ]
  },
  {
   "cell_type": "code",
   "execution_count": 10,
   "id": "06e8f97a",
   "metadata": {},
   "outputs": [
    {
     "data": {
      "text/plain": [
       "True"
      ]
     },
     "execution_count": 10,
     "metadata": {},
     "output_type": "execute_result"
    }
   ],
   "source": [
    "# Question 25\n",
    "def my_function25(intergers, number = -999):\n",
    "    return any([True if i == number else False for i in intergers])\n",
    "\n",
    "my_list25 = [1, 3, 6, 9, -100, 19, 2004, 2023]\n",
    "my_function25(my_list25, 2004)"
   ]
  },
  {
   "cell_type": "code",
   "execution_count": 11,
   "id": "b96533f4",
   "metadata": {},
   "outputs": [
    {
     "name": "stdout",
     "output_type": "stream",
     "text": [
      "['I', 'do', 'my', 'homework', 'every', 'evening']\n"
     ]
    }
   ],
   "source": [
    "# Question 26\n",
    "my_exam26 = \"I do my   homework every evening!\"\n",
    "print(my_exam26.strip('!').split())"
   ]
  },
  {
   "cell_type": "code",
   "execution_count": 13,
   "id": "7cd29924",
   "metadata": {},
   "outputs": [
    {
     "name": "stdout",
     "output_type": "stream",
     "text": [
      "[1, 2, 3]\n"
     ]
    }
   ],
   "source": [
    "# Question 27\n",
    "def function_helper(x, data):\n",
    "    for i in data:\n",
    "        if x == i:\n",
    "            return 0\n",
    "    return 1\n",
    "\n",
    "def a_function(data):\n",
    "    res = []\n",
    "    for i in data:\n",
    "        if function_helper(i, res):\n",
    "            res.append(i)\n",
    "    return res\n",
    "\n",
    "lst = [1, 1, 2, 2, 3]\n",
    "print(a_function(lst))"
   ]
  },
  {
   "cell_type": "code",
   "execution_count": 18,
   "id": "4e83aef0",
   "metadata": {},
   "outputs": [
    {
     "name": "stdout",
     "output_type": "stream",
     "text": [
      "None\n",
      "True\n"
     ]
    }
   ],
   "source": [
    "# Question 28\n",
    "def my_function28(signal1, signal2):\n",
    "    var = False\n",
    "    for s1 in signal1:\n",
    "        for s2 in signal2:\n",
    "            if s1 == s2:\n",
    "                var = True\n",
    "                return var\n",
    "print(my_function28([0, 1, 1, 0], [100, 11, 110]))\n",
    "print(my_function28([0, 1, 1, 0], [100, 1, 110]))\n",
    "\n",
    "# Lưu ý rằng việc sử dụng return trong vòng lặp sẽ kết thúc hàm và trả về giá trị ngay tại điểm đó, \n",
    "# do đó hàm chỉ trả về một lần duy nhất nếu có phần tử chung đầu tiên được tìm thấy."
   ]
  },
  {
   "cell_type": "code",
   "execution_count": 20,
   "id": "3bada45c",
   "metadata": {},
   "outputs": [
    {
     "name": "stdout",
     "output_type": "stream",
     "text": [
      "True\n"
     ]
    }
   ],
   "source": [
    "# Question 29\n",
    "def my_function29(signal1, signal2):\n",
    "    var = False\n",
    "    for s1 in signal1:\n",
    "        for s2 in signal2:\n",
    "            if s1 == s2:\n",
    "                var = True\n",
    "                return var\n",
    "\n",
    "print(my_function29([0, 1, 1, 9], [9, 9, 9]))"
   ]
  },
  {
   "cell_type": "code",
   "execution_count": 22,
   "id": "119adc16",
   "metadata": {},
   "outputs": [
    {
     "name": "stdout",
     "output_type": "stream",
     "text": [
      "[2, -4]\n"
     ]
    }
   ],
   "source": [
    "# Question 30\n",
    "def my_function30(data):\n",
    "    var = []\n",
    "    for i in data:\n",
    "        if i %2 == 0:\n",
    "            var.append(i)\n",
    "    return var\n",
    "\n",
    "print(my_function30([1, 2, -4, 5, 7, 23]))"
   ]
  },
  {
   "cell_type": "code",
   "execution_count": 23,
   "id": "e645c1c6",
   "metadata": {},
   "outputs": [
    {
     "name": "stdout",
     "output_type": "stream",
     "text": [
      "\n",
      "    Returns the square of the number entered.\n",
      "    The number entered must be an integer\n",
      "    \n"
     ]
    }
   ],
   "source": [
    "# Question 31:\n",
    "def square(num):\n",
    "    '''\n",
    "    Returns the square of the number entered.\n",
    "    The number entered must be an integer\n",
    "    '''\n",
    "    return num ** 2\n",
    "\n",
    "print(square.__doc__)"
   ]
  },
  {
   "cell_type": "code",
   "execution_count": 24,
   "id": "902b63ef",
   "metadata": {},
   "outputs": [
    {
     "name": "stdout",
     "output_type": "stream",
     "text": [
      "tac\n"
     ]
    }
   ],
   "source": [
    "# Question 32\n",
    "def a_function32(x):\n",
    "    res = ''\n",
    "    for i in x:\n",
    "        res = i + res\n",
    "    return res\n",
    "\n",
    "x = 'cat'\n",
    "print(a_function32(x))\n",
    "\n",
    "# Do res đang được xây dựng theo chiều từ phải sang trái, \n",
    "# nên mỗi ký tự của x sẽ được thêm vào đầu chuỗi res, dẫn đến việc đảo ngược chuỗi x."
   ]
  },
  {
   "cell_type": "code",
   "execution_count": 25,
   "id": "1c39b172",
   "metadata": {},
   "outputs": [
    {
     "name": "stdout",
     "output_type": "stream",
     "text": [
      "odd : 10, even: 3\n"
     ]
    }
   ],
   "source": [
    "# Question 33\n",
    "my_list33 = [1, 1, 2, 3, 5]\n",
    "odd = 1\n",
    "even = 0\n",
    "\n",
    "for number in my_list33:\n",
    "    if number % 3 == 0:\n",
    "        even += number\n",
    "    else:\n",
    "        odd += number\n",
    "print(f\"odd : {odd}, even: {even}\")"
   ]
  },
  {
   "cell_type": "code",
   "execution_count": null,
   "id": "514e9bd7",
   "metadata": {},
   "outputs": [],
   "source": []
  }
 ],
 "metadata": {
  "kernelspec": {
   "display_name": "Python 3 (ipykernel)",
   "language": "python",
   "name": "python3"
  },
  "language_info": {
   "codemirror_mode": {
    "name": "ipython",
    "version": 3
   },
   "file_extension": ".py",
   "mimetype": "text/x-python",
   "name": "python",
   "nbconvert_exporter": "python",
   "pygments_lexer": "ipython3",
   "version": "3.11.4"
  }
 },
 "nbformat": 4,
 "nbformat_minor": 5
}
