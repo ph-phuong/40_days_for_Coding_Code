{
 "cells": [
  {
   "cell_type": "code",
   "execution_count": 2,
   "id": "53f4e631",
   "metadata": {},
   "outputs": [
    {
     "name": "stdout",
     "output_type": "stream",
     "text": [
      "Danh sách mua sắm: \n",
      "1.Cà rốt\n",
      "2.Táo\n",
      "3.Sữa\n"
     ]
    }
   ],
   "source": [
    "shopping_list = ['Cà rốt', 'Táo', 'Sữa']\n",
    "\n",
    "print('Danh sách mua sắm: ')\n",
    "\n",
    "for index in range(len(shopping_list)):\n",
    "    print(f'{index+1}.{shopping_list[index]}')"
   ]
  },
  {
   "cell_type": "code",
   "execution_count": 4,
   "id": "d1ffce52",
   "metadata": {},
   "outputs": [
    {
     "name": "stdout",
     "output_type": "stream",
     "text": [
      "Danh sách mua sắm: \n",
      "1.Cà rốt\n",
      "2.Táo\n",
      "3.Sữa\n"
     ]
    }
   ],
   "source": [
    "print('Danh sách mua sắm: ')\n",
    "\n",
    "for index, item in enumerate(shopping_list, start = 1):\n",
    "    print(f'{index}.{item}')"
   ]
  },
  {
   "cell_type": "code",
   "execution_count": 5,
   "id": "d2341b13",
   "metadata": {},
   "outputs": [
    {
     "name": "stdout",
     "output_type": "stream",
     "text": [
      "2.Cà rốt\n",
      "3.Táo\n",
      "4.Sữa\n"
     ]
    }
   ],
   "source": [
    "for index, item in enumerate(shopping_list, start = 2):\n",
    "    print(f'{index}.{item}')"
   ]
  },
  {
   "cell_type": "code",
   "execution_count": 6,
   "id": "6ad61dac",
   "metadata": {},
   "outputs": [],
   "source": [
    "food_list = [\n",
    "                ['Bơ', 'Pizza', 'Sữa'],\n",
    "                ['Xúc xích', 'Táo', 'Kem'],\n",
    "                ['Cà rốt', 'Bánh dâu', 'Cupcake']\n",
    "            ]\n",
    "\n",
    "search_item = ['Cà rốt', 'Táo', 'Sữa']"
   ]
  },
  {
   "cell_type": "code",
   "execution_count": 7,
   "id": "df78fc29",
   "metadata": {},
   "outputs": [
    {
     "name": "stdout",
     "output_type": "stream",
     "text": [
      "Sữa được tìm thấy ở hàng 1 cột 3\n",
      "Táo được tìm thấy ở hàng 2 cột 2\n",
      "Cà rốt được tìm thấy ở hàng 3 cột 1\n"
     ]
    }
   ],
   "source": [
    "#Lặp qua từng hàng của danh sách\n",
    "for i in range(len(food_list)):\n",
    "    #Lặp qua từng phần tử trong hàng\n",
    "    for j in range(len(food_list[i])):\n",
    "        #Kiểm tra phần tử có trong danh sách tìm kiếm\n",
    "        if food_list[i][j] in search_item:\n",
    "            #In vị trí phần tử đã tìm thấy\n",
    "            print(f'{food_list[i][j]} được tìm thấy ở hàng {i+1} cột {j+1}')\n",
    "    "
   ]
  },
  {
   "cell_type": "code",
   "execution_count": 16,
   "id": "4b61fc03",
   "metadata": {},
   "outputs": [
    {
     "name": "stdout",
     "output_type": "stream",
     "text": [
      "Sữa được tìm thấy tại hàng 1, cột 3\n",
      "Táo được tìm thấy tại hàng 2, cột 2\n",
      "Cà rốt được tìm thấy tại hàng 3, cột 1\n"
     ]
    }
   ],
   "source": [
    "#Lặp qua từng hàng trong danh sách, lấy chỉ số của hàng\n",
    "for i, row in enumerate(food_list, start=1):\n",
    "    #Lặp qua từng phần tử trong hàng, lấy chỉ số của phần tử\n",
    "    for j, item in enumerate(row, start=1):\n",
    "        if item in search_item:\n",
    "            print(f'{item} được tìm thấy tại '\n",
    "                  f'hàng {i}, cột {j}')\n"
   ]
  },
  {
   "cell_type": "code",
   "execution_count": null,
   "id": "32a68d6d",
   "metadata": {},
   "outputs": [],
   "source": []
  }
 ],
 "metadata": {
  "kernelspec": {
   "display_name": "Python 3 (ipykernel)",
   "language": "python",
   "name": "python3"
  },
  "language_info": {
   "codemirror_mode": {
    "name": "ipython",
    "version": 3
   },
   "file_extension": ".py",
   "mimetype": "text/x-python",
   "name": "python",
   "nbconvert_exporter": "python",
   "pygments_lexer": "ipython3",
   "version": "3.11.4"
  }
 },
 "nbformat": 4,
 "nbformat_minor": 5
}
